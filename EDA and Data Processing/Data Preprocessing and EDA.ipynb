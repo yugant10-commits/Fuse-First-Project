{
 "cells": [
  {
   "cell_type": "code",
   "execution_count": 457,
   "id": "686fa5ef",
   "metadata": {},
   "outputs": [],
   "source": [
    "import pandas as pd\n",
    "import re\n",
    "from math import nan\n",
    "import numpy as np"
   ]
  },
  {
   "cell_type": "code",
   "execution_count": 458,
   "id": "a5aa6dc2",
   "metadata": {},
   "outputs": [],
   "source": [
    "housing_data = pd.read_json('data.json')"
   ]
  },
  {
   "cell_type": "code",
   "execution_count": 455,
   "id": "34a195a4",
   "metadata": {},
   "outputs": [
    {
     "data": {
      "text/html": [
       "<div>\n",
       "<style scoped>\n",
       "    .dataframe tbody tr th:only-of-type {\n",
       "        vertical-align: middle;\n",
       "    }\n",
       "\n",
       "    .dataframe tbody tr th {\n",
       "        vertical-align: top;\n",
       "    }\n",
       "\n",
       "    .dataframe thead th {\n",
       "        text-align: right;\n",
       "    }\n",
       "</style>\n",
       "<table border=\"1\" class=\"dataframe\">\n",
       "  <thead>\n",
       "    <tr style=\"text-align: right;\">\n",
       "      <th></th>\n",
       "      <th>area</th>\n",
       "      <th>house_price</th>\n",
       "      <th>amenities</th>\n",
       "      <th>floors</th>\n",
       "      <th>bedrooms</th>\n",
       "      <th>bathrooms</th>\n",
       "      <th>property_type</th>\n",
       "      <th>selling_type</th>\n",
       "      <th>road_size</th>\n",
       "      <th>road_type</th>\n",
       "      <th>location_two</th>\n",
       "    </tr>\n",
       "  </thead>\n",
       "  <tbody>\n",
       "    <tr>\n",
       "      <th>0</th>\n",
       "      <td>19.0</td>\n",
       "      <td>7.500000e+04</td>\n",
       "      <td>[0, 0, 0, 1, 0, 0, 0, 0, 0, 0, 1, 0, 0, 0, 0, ...</td>\n",
       "      <td>2.5</td>\n",
       "      <td>2.5</td>\n",
       "      <td>2.5</td>\n",
       "      <td>HOUSE</td>\n",
       "      <td>RENT</td>\n",
       "      <td>14.0</td>\n",
       "      <td>Soil Stabilized</td>\n",
       "      <td>Lalitpur Metropolitan City</td>\n",
       "    </tr>\n",
       "    <tr>\n",
       "      <th>1</th>\n",
       "      <td>5.0</td>\n",
       "      <td>4.175269e+07</td>\n",
       "      <td>[0, 0, 0, 1, 0, 0, 0, 0, 0, 0, 1, 0, 0, 0, 0, ...</td>\n",
       "      <td>2.5</td>\n",
       "      <td>2.5</td>\n",
       "      <td>2.5</td>\n",
       "      <td>HOUSE</td>\n",
       "      <td>SALE</td>\n",
       "      <td>14.0</td>\n",
       "      <td>Black Topped</td>\n",
       "      <td>Budhanilkantha Municipality</td>\n",
       "    </tr>\n",
       "    <tr>\n",
       "      <th>2</th>\n",
       "      <td>4.0</td>\n",
       "      <td>2.900000e+07</td>\n",
       "      <td>[0, 0, 0, 1, 0, 0, 0, 0, 0, 0, 1, 0, 0, 0, 0, ...</td>\n",
       "      <td>3.0</td>\n",
       "      <td>2.5</td>\n",
       "      <td>2.5</td>\n",
       "      <td>HOUSE</td>\n",
       "      <td>SALE</td>\n",
       "      <td>10.0</td>\n",
       "      <td>Gravelled</td>\n",
       "      <td>Budhanilkantha Municipality</td>\n",
       "    </tr>\n",
       "    <tr>\n",
       "      <th>3</th>\n",
       "      <td>3.0</td>\n",
       "      <td>1.750000e+07</td>\n",
       "      <td>[0, 0, 0, 0, 0, 0, 0, 0, 0, 0, 1, 0, 0, 0, 0, ...</td>\n",
       "      <td>2.5</td>\n",
       "      <td>2.5</td>\n",
       "      <td>2.5</td>\n",
       "      <td>HOUSE</td>\n",
       "      <td>SALE</td>\n",
       "      <td>8.0</td>\n",
       "      <td>Soil Stabilized</td>\n",
       "      <td>Chandragiri Municipality</td>\n",
       "    </tr>\n",
       "    <tr>\n",
       "      <th>4</th>\n",
       "      <td>3.0</td>\n",
       "      <td>1.700000e+07</td>\n",
       "      <td>[0, 0, 0, 1, 0, 0, 0, 0, 0, 0, 1, 0, 0, 0, 0, ...</td>\n",
       "      <td>3.0</td>\n",
       "      <td>4.0</td>\n",
       "      <td>2.5</td>\n",
       "      <td>HOUSE</td>\n",
       "      <td>SALE</td>\n",
       "      <td>10.0</td>\n",
       "      <td>Gravelled</td>\n",
       "      <td>Tokha Municipality</td>\n",
       "    </tr>\n",
       "  </tbody>\n",
       "</table>\n",
       "</div>"
      ],
      "text/plain": [
       "   area   house_price                                          amenities  \\\n",
       "0  19.0  7.500000e+04  [0, 0, 0, 1, 0, 0, 0, 0, 0, 0, 1, 0, 0, 0, 0, ...   \n",
       "1   5.0  4.175269e+07  [0, 0, 0, 1, 0, 0, 0, 0, 0, 0, 1, 0, 0, 0, 0, ...   \n",
       "2   4.0  2.900000e+07  [0, 0, 0, 1, 0, 0, 0, 0, 0, 0, 1, 0, 0, 0, 0, ...   \n",
       "3   3.0  1.750000e+07  [0, 0, 0, 0, 0, 0, 0, 0, 0, 0, 1, 0, 0, 0, 0, ...   \n",
       "4   3.0  1.700000e+07  [0, 0, 0, 1, 0, 0, 0, 0, 0, 0, 1, 0, 0, 0, 0, ...   \n",
       "\n",
       "   floors  bedrooms  bathrooms property_type selling_type  road_size  \\\n",
       "0     2.5       2.5        2.5         HOUSE         RENT       14.0   \n",
       "1     2.5       2.5        2.5         HOUSE         SALE       14.0   \n",
       "2     3.0       2.5        2.5         HOUSE         SALE       10.0   \n",
       "3     2.5       2.5        2.5         HOUSE         SALE        8.0   \n",
       "4     3.0       4.0        2.5         HOUSE         SALE       10.0   \n",
       "\n",
       "         road_type                  location_two  \n",
       "0  Soil Stabilized    Lalitpur Metropolitan City  \n",
       "1     Black Topped   Budhanilkantha Municipality  \n",
       "2        Gravelled   Budhanilkantha Municipality  \n",
       "3  Soil Stabilized      Chandragiri Municipality  \n",
       "4        Gravelled            Tokha Municipality  "
      ]
     },
     "execution_count": 455,
     "metadata": {},
     "output_type": "execute_result"
    }
   ],
   "source": [
    "checking.head()"
   ]
  },
  {
   "cell_type": "code",
   "execution_count": 456,
   "id": "8f1d22bb",
   "metadata": {},
   "outputs": [
    {
     "data": {
      "text/plain": [
       "str"
      ]
     },
     "execution_count": 456,
     "metadata": {},
     "output_type": "execute_result"
    }
   ],
   "source": [
    "type(checking['amenities'][0])"
   ]
  },
  {
   "cell_type": "code",
   "execution_count": 459,
   "id": "4af4a1f0",
   "metadata": {},
   "outputs": [
    {
     "data": {
      "text/html": [
       "<div>\n",
       "<style scoped>\n",
       "    .dataframe tbody tr th:only-of-type {\n",
       "        vertical-align: middle;\n",
       "    }\n",
       "\n",
       "    .dataframe tbody tr th {\n",
       "        vertical-align: top;\n",
       "    }\n",
       "\n",
       "    .dataframe thead th {\n",
       "        text-align: right;\n",
       "    }\n",
       "</style>\n",
       "<table border=\"1\" class=\"dataframe\">\n",
       "  <thead>\n",
       "    <tr style=\"text-align: right;\">\n",
       "      <th></th>\n",
       "      <th>area</th>\n",
       "      <th>house_price</th>\n",
       "      <th>title</th>\n",
       "      <th>house_location</th>\n",
       "      <th>amenities</th>\n",
       "      <th>property_face</th>\n",
       "      <th>ownership_category</th>\n",
       "      <th>road_access</th>\n",
       "      <th>floors</th>\n",
       "      <th>parking</th>\n",
       "      <th>bedrooms</th>\n",
       "      <th>bathrooms</th>\n",
       "      <th>builtuparea</th>\n",
       "    </tr>\n",
       "  </thead>\n",
       "  <tbody>\n",
       "    <tr>\n",
       "      <th>0</th>\n",
       "      <td>1-3-0-0 Ropani-Aana-Paisa-Daam</td>\n",
       "      <td>Rs. 75,000</td>\n",
       "      <td>Beautiful house on rent in Bagdol, Nakkhu</td>\n",
       "      <td>Bagdol, Lalitpur Metropolitan City</td>\n",
       "      <td>[Electricity Backup, Drainage, Parking, Drinki...</td>\n",
       "      <td>East</td>\n",
       "      <td>Individual</td>\n",
       "      <td>14Feet /Soil Stabilized</td>\n",
       "      <td>2.5 Stories</td>\n",
       "      <td>NaN</td>\n",
       "      <td>NaN</td>\n",
       "      <td>NaN</td>\n",
       "      <td>NaN</td>\n",
       "    </tr>\n",
       "    <tr>\n",
       "      <th>1</th>\n",
       "      <td>0-5-0-0 Ropani-Aana-Paisa-Daam</td>\n",
       "      <td>Price On Call</td>\n",
       "      <td>Brand new house on sale in Mandikhatar, Kathmandu</td>\n",
       "      <td>Mandikhatar, Budhanilkantha Municipality</td>\n",
       "      <td>[Drainage, Electricity Backup, Drinking Water,...</td>\n",
       "      <td>NaN</td>\n",
       "      <td>Individual</td>\n",
       "      <td>14Feet /Black Topped</td>\n",
       "      <td>NaN</td>\n",
       "      <td>2 car and some bikes</td>\n",
       "      <td>NaN</td>\n",
       "      <td>NaN</td>\n",
       "      <td>NaN</td>\n",
       "    </tr>\n",
       "    <tr>\n",
       "      <th>2</th>\n",
       "      <td>0-4-0-0 Ropani-Aana-Paisa-Daam</td>\n",
       "      <td>Rs. 2,90,00,000</td>\n",
       "      <td>Resudential house on sale in Paiyatar, Kapan</td>\n",
       "      <td>Paiyuntar, Budhanilkantha Municipality</td>\n",
       "      <td>[Drinking Water, Bathroom, Electricity Backup,...</td>\n",
       "      <td>South-East</td>\n",
       "      <td>Individual</td>\n",
       "      <td>10Feet /Gravelled</td>\n",
       "      <td>3 Stories</td>\n",
       "      <td>NaN</td>\n",
       "      <td>NaN</td>\n",
       "      <td>NaN</td>\n",
       "      <td>NaN</td>\n",
       "    </tr>\n",
       "    <tr>\n",
       "      <th>3</th>\n",
       "      <td>0-3-0-0 Ropani-Aana-Paisa-Daam</td>\n",
       "      <td>Rs. 1,75,00,000</td>\n",
       "      <td>Beautiful house on sale in Checkpost, Chandragiri</td>\n",
       "      <td>Chandragiri, Chandragiri Municipality</td>\n",
       "      <td>[Electricity Backup, Drainage, Bathroom, Drink...</td>\n",
       "      <td>NaN</td>\n",
       "      <td>Individual</td>\n",
       "      <td>8-10Feet /Soil Stabilized</td>\n",
       "      <td>2.5 Stories</td>\n",
       "      <td>NaN</td>\n",
       "      <td>NaN</td>\n",
       "      <td>NaN</td>\n",
       "      <td>NaN</td>\n",
       "    </tr>\n",
       "    <tr>\n",
       "      <th>4</th>\n",
       "      <td>0-3-0-0 Ropani-Aana-Paisa-Daam</td>\n",
       "      <td>Rs. 1,70,00,000</td>\n",
       "      <td>Beautiful house on sale in Bhatkekopul, Tokha</td>\n",
       "      <td>Tokha, Tokha Municipality</td>\n",
       "      <td>[Washing Machine, Bathroom, Drinking Water, El...</td>\n",
       "      <td>West</td>\n",
       "      <td>Individual</td>\n",
       "      <td>10Feet /Gravelled</td>\n",
       "      <td>3 Stories</td>\n",
       "      <td>NaN</td>\n",
       "      <td>4</td>\n",
       "      <td>NaN</td>\n",
       "      <td>NaN</td>\n",
       "    </tr>\n",
       "  </tbody>\n",
       "</table>\n",
       "</div>"
      ],
      "text/plain": [
       "                             area      house_price  \\\n",
       "0  1-3-0-0 Ropani-Aana-Paisa-Daam       Rs. 75,000   \n",
       "1  0-5-0-0 Ropani-Aana-Paisa-Daam    Price On Call   \n",
       "2  0-4-0-0 Ropani-Aana-Paisa-Daam  Rs. 2,90,00,000   \n",
       "3  0-3-0-0 Ropani-Aana-Paisa-Daam  Rs. 1,75,00,000   \n",
       "4  0-3-0-0 Ropani-Aana-Paisa-Daam  Rs. 1,70,00,000   \n",
       "\n",
       "                                               title  \\\n",
       "0          Beautiful house on rent in Bagdol, Nakkhu   \n",
       "1  Brand new house on sale in Mandikhatar, Kathmandu   \n",
       "2       Resudential house on sale in Paiyatar, Kapan   \n",
       "3  Beautiful house on sale in Checkpost, Chandragiri   \n",
       "4      Beautiful house on sale in Bhatkekopul, Tokha   \n",
       "\n",
       "                             house_location  \\\n",
       "0        Bagdol, Lalitpur Metropolitan City   \n",
       "1  Mandikhatar, Budhanilkantha Municipality   \n",
       "2    Paiyuntar, Budhanilkantha Municipality   \n",
       "3     Chandragiri, Chandragiri Municipality   \n",
       "4                 Tokha, Tokha Municipality   \n",
       "\n",
       "                                           amenities property_face  \\\n",
       "0  [Electricity Backup, Drainage, Parking, Drinki...          East   \n",
       "1  [Drainage, Electricity Backup, Drinking Water,...           NaN   \n",
       "2  [Drinking Water, Bathroom, Electricity Backup,...    South-East   \n",
       "3  [Electricity Backup, Drainage, Bathroom, Drink...           NaN   \n",
       "4  [Washing Machine, Bathroom, Drinking Water, El...          West   \n",
       "\n",
       "  ownership_category                road_access       floors  \\\n",
       "0         Individual    14Feet /Soil Stabilized  2.5 Stories   \n",
       "1         Individual       14Feet /Black Topped          NaN   \n",
       "2         Individual          10Feet /Gravelled    3 Stories   \n",
       "3         Individual  8-10Feet /Soil Stabilized  2.5 Stories   \n",
       "4         Individual          10Feet /Gravelled    3 Stories   \n",
       "\n",
       "                parking bedrooms bathrooms builtuparea  \n",
       "0                   NaN      NaN       NaN         NaN  \n",
       "1  2 car and some bikes      NaN       NaN         NaN  \n",
       "2                   NaN      NaN       NaN         NaN  \n",
       "3                   NaN      NaN       NaN         NaN  \n",
       "4                   NaN        4       NaN         NaN  "
      ]
     },
     "execution_count": 459,
     "metadata": {},
     "output_type": "execute_result"
    }
   ],
   "source": [
    "housing_data.head()"
   ]
  },
  {
   "cell_type": "code",
   "execution_count": 460,
   "id": "8f529acb",
   "metadata": {},
   "outputs": [],
   "source": [
    "def conversion_to_aana(measurement :str) -> float:\n",
    "    try:\n",
    "        if measurement.find(\"Ropani\") > -1:\n",
    "            data = measurement.split('-')\n",
    "            aana = 16 * float(data[0]) + float(data[1]) + 0.25 * float(data[2]) + 0.0625 * float(data[3][0])\n",
    "            return aana\n",
    "        elif measurement.find(\"Bigha\") > -1:\n",
    "            data = measurement.split('-')\n",
    "            aana = 213.0021914 * float(data[0]) + 10.65010957 * float(data[1]) + 0.5322505478 * float(data[2]) + 0.006368 * float(data[3][0])\n",
    "            return aana\n",
    "        else :\n",
    "            return nan\n",
    "            print(\"ERROR: conversoin_to_aana func\")\n",
    "    except ValueError:\n",
    "        return nan"
   ]
  },
  {
   "cell_type": "code",
   "execution_count": 461,
   "id": "75bcdef4",
   "metadata": {},
   "outputs": [],
   "source": [
    "def housing_price_filter(price :str) -> float:\n",
    "    try:\n",
    "        return float(''.join(price[4:].split(',')))\n",
    "    except ValueError:\n",
    "        return nan"
   ]
  },
  {
   "cell_type": "code",
   "execution_count": 462,
   "id": "7c78bc0c",
   "metadata": {},
   "outputs": [],
   "source": [
    "def extract_sale_type(x) -> list:\n",
    "    try:\n",
    "        if type(x) != str:\n",
    "            return nan\n",
    "        elif x.find(\"sale\") > -1 or x.find(\"Sale\") > -1:\n",
    "            return \"SALE\"\n",
    "        elif x.find(\"rent\") > -1 or x.find(\"Rent\") > -1:\n",
    "            return \"RENT\"\n",
    "        else :\n",
    "            return nan\n",
    "    except ValueError:\n",
    "        return nan"
   ]
  },
  {
   "cell_type": "code",
   "execution_count": 463,
   "id": "f72d2936",
   "metadata": {},
   "outputs": [],
   "source": [
    "def extract_building_type(x) -> str:\n",
    "    try:\n",
    "        if type(x) != str:\n",
    "            return nan\n",
    "        elif x.find(\"house\") > -1 or x.find(\"House\") > -1 or x.find(\"home\") > -1 or x.find(\"Home\") > -1 or x.find(\"Mansion\") > -1 or x.find(\"mansion\") > -1 or x.find(\"villa\") > -1 or x.find(\"Villa\") > -1 or x.find(\"Bunglow\") > -1 or x.find(\"bunglow\") > -1 or x.find(\"Bungalow\") > -1 or x.find(\"bungalow\") > -1:\n",
    "            return \"HOUSE\"\n",
    "        elif x.find(\"flat\") > -1 or x.find(\"Flat\") > -1 or x.find(\"apartment\") > -1 or x.find(\"Apartment\") > -1:\n",
    "            return \"FLAT\"\n",
    "        elif x.find(\"ommercial\") > -1:\n",
    "            return \"COMM_BUILD\"\n",
    "        else:\n",
    "            return nan\n",
    "    except ValueError:\n",
    "        return nan"
   ]
  },
  {
   "cell_type": "code",
   "execution_count": 464,
   "id": "930cbc61",
   "metadata": {},
   "outputs": [],
   "source": [
    "def location_one(loc: str):\n",
    "    if type(loc) != str:\n",
    "        return nan\n",
    "    try:\n",
    "        return loc.split(',')[0]\n",
    "    except ValueError:\n",
    "        return nan"
   ]
  },
  {
   "cell_type": "code",
   "execution_count": 465,
   "id": "43db0c30",
   "metadata": {},
   "outputs": [],
   "source": [
    "def location_two(loc: str):\n",
    "    if type(loc) != str:\n",
    "        return nan\n",
    "    try:\n",
    "        return loc.split(',')[1]\n",
    "    except ValueError:\n",
    "        return nan"
   ]
  },
  {
   "cell_type": "code",
   "execution_count": 466,
   "id": "c13d0e28",
   "metadata": {},
   "outputs": [],
   "source": [
    "def road_size(size: str):\n",
    "    if type(size) != str:\n",
    "        return nan\n",
    "    try:\n",
    "        data = size.split('/')[0]\n",
    "        data = data.split('-')[0]\n",
    "        num = [str(x) for x in data if x.isdigit()]\n",
    "        num = ''.join(num)\n",
    "        return float(num)\n",
    "    except ValueError:\n",
    "        return nan"
   ]
  },
  {
   "cell_type": "code",
   "execution_count": 467,
   "id": "e8f491d1",
   "metadata": {},
   "outputs": [],
   "source": [
    "def road_type(road: str):\n",
    "    if type(road) != str:\n",
    "        return nan\n",
    "    try:\n",
    "        return road.split('/')[1]\n",
    "    except IndexError:\n",
    "        return nan"
   ]
  },
  {
   "cell_type": "code",
   "execution_count": 468,
   "id": "53d271dd",
   "metadata": {},
   "outputs": [],
   "source": [
    "def filter_floors(floor: str):\n",
    "    if type(floor) != str:\n",
    "        return nan\n",
    "    try:\n",
    "        floor = floor.split(' ')[0]\n",
    "        return float(floor)\n",
    "    except ValueError:\n",
    "        return nan"
   ]
  },
  {
   "cell_type": "code",
   "execution_count": 469,
   "id": "adb8353b",
   "metadata": {},
   "outputs": [],
   "source": [
    "def filter_bed_bath(data):\n",
    "    if type(data) != str:\n",
    "        return nan\n",
    "    try:\n",
    "        return float(data)\n",
    "    except ValueError:\n",
    "        return nan"
   ]
  },
  {
   "cell_type": "code",
   "execution_count": 470,
   "id": "4edb710a",
   "metadata": {},
   "outputs": [],
   "source": [
    "test_housing_data = housing_data"
   ]
  },
  {
   "cell_type": "code",
   "execution_count": 471,
   "id": "e18fb5cb",
   "metadata": {},
   "outputs": [],
   "source": [
    "test_housing_data[\"bathrooms\"] = test_housing_data[\"bathrooms\"].apply(filter_bed_bath)"
   ]
  },
  {
   "cell_type": "code",
   "execution_count": 472,
   "id": "69986c47",
   "metadata": {},
   "outputs": [],
   "source": [
    "test_housing_data[\"bedrooms\"] = test_housing_data[\"bedrooms\"].apply(filter_bed_bath)"
   ]
  },
  {
   "cell_type": "code",
   "execution_count": 473,
   "id": "c5e964b7",
   "metadata": {},
   "outputs": [],
   "source": [
    "test_housing_data[\"area\"] = test_housing_data[\"area\"].apply(conversion_to_aana)"
   ]
  },
  {
   "cell_type": "code",
   "execution_count": 474,
   "id": "d7d30ec9",
   "metadata": {},
   "outputs": [],
   "source": [
    "test_housing_data[\"house_price\"] = test_housing_data[\"house_price\"].apply(housing_price_filter)"
   ]
  },
  {
   "cell_type": "code",
   "execution_count": 475,
   "id": "8a0cc4b9",
   "metadata": {},
   "outputs": [],
   "source": [
    "test_housing_data[\"property_type\"] = test_housing_data[\"title\"].apply(extract_building_type)"
   ]
  },
  {
   "cell_type": "code",
   "execution_count": 476,
   "id": "a9d3d2d8",
   "metadata": {},
   "outputs": [],
   "source": [
    "test_housing_data[\"selling_type\"] = test_housing_data[\"title\"].apply(extract_sale_type)"
   ]
  },
  {
   "cell_type": "code",
   "execution_count": 477,
   "id": "422a84f9",
   "metadata": {},
   "outputs": [],
   "source": [
    "test_housing_data[\"road_size\"] = test_housing_data[\"road_access\"].apply(road_size)"
   ]
  },
  {
   "cell_type": "code",
   "execution_count": 478,
   "id": "376b22d4",
   "metadata": {},
   "outputs": [],
   "source": [
    "test_housing_data[\"road_type\"] = test_housing_data[\"road_access\"].apply(road_type)"
   ]
  },
  {
   "cell_type": "code",
   "execution_count": 479,
   "id": "d0d9ef09",
   "metadata": {},
   "outputs": [],
   "source": [
    "test_housing_data[\"location_one\"] = test_housing_data[\"house_location\"].apply(location_one)"
   ]
  },
  {
   "cell_type": "code",
   "execution_count": 480,
   "id": "adb55d28",
   "metadata": {},
   "outputs": [],
   "source": [
    "test_housing_data[\"location_two\"] = test_housing_data[\"house_location\"].apply(location_two)"
   ]
  },
  {
   "cell_type": "code",
   "execution_count": 481,
   "id": "5cd7d92a",
   "metadata": {},
   "outputs": [],
   "source": [
    "test_housing_data[\"floors\"] = test_housing_data[\"floors\"].apply(filter_floors)"
   ]
  },
  {
   "cell_type": "code",
   "execution_count": 482,
   "id": "9dc8f129",
   "metadata": {
    "scrolled": true
   },
   "outputs": [
    {
     "data": {
      "text/html": [
       "<div>\n",
       "<style scoped>\n",
       "    .dataframe tbody tr th:only-of-type {\n",
       "        vertical-align: middle;\n",
       "    }\n",
       "\n",
       "    .dataframe tbody tr th {\n",
       "        vertical-align: top;\n",
       "    }\n",
       "\n",
       "    .dataframe thead th {\n",
       "        text-align: right;\n",
       "    }\n",
       "</style>\n",
       "<table border=\"1\" class=\"dataframe\">\n",
       "  <thead>\n",
       "    <tr style=\"text-align: right;\">\n",
       "      <th></th>\n",
       "      <th>area</th>\n",
       "      <th>house_price</th>\n",
       "      <th>title</th>\n",
       "      <th>house_location</th>\n",
       "      <th>amenities</th>\n",
       "      <th>property_face</th>\n",
       "      <th>ownership_category</th>\n",
       "      <th>road_access</th>\n",
       "      <th>floors</th>\n",
       "      <th>parking</th>\n",
       "      <th>bedrooms</th>\n",
       "      <th>bathrooms</th>\n",
       "      <th>builtuparea</th>\n",
       "      <th>property_type</th>\n",
       "      <th>selling_type</th>\n",
       "      <th>road_size</th>\n",
       "      <th>road_type</th>\n",
       "      <th>location_one</th>\n",
       "      <th>location_two</th>\n",
       "    </tr>\n",
       "  </thead>\n",
       "  <tbody>\n",
       "    <tr>\n",
       "      <th>0</th>\n",
       "      <td>19.0</td>\n",
       "      <td>75000.0</td>\n",
       "      <td>Beautiful house on rent in Bagdol, Nakkhu</td>\n",
       "      <td>Bagdol, Lalitpur Metropolitan City</td>\n",
       "      <td>[Electricity Backup, Drainage, Parking, Drinki...</td>\n",
       "      <td>East</td>\n",
       "      <td>Individual</td>\n",
       "      <td>14Feet /Soil Stabilized</td>\n",
       "      <td>2.5</td>\n",
       "      <td>NaN</td>\n",
       "      <td>NaN</td>\n",
       "      <td>NaN</td>\n",
       "      <td>NaN</td>\n",
       "      <td>HOUSE</td>\n",
       "      <td>RENT</td>\n",
       "      <td>14.0</td>\n",
       "      <td>Soil Stabilized</td>\n",
       "      <td>Bagdol</td>\n",
       "      <td>Lalitpur Metropolitan City</td>\n",
       "    </tr>\n",
       "    <tr>\n",
       "      <th>1</th>\n",
       "      <td>5.0</td>\n",
       "      <td>NaN</td>\n",
       "      <td>Brand new house on sale in Mandikhatar, Kathmandu</td>\n",
       "      <td>Mandikhatar, Budhanilkantha Municipality</td>\n",
       "      <td>[Drainage, Electricity Backup, Drinking Water,...</td>\n",
       "      <td>NaN</td>\n",
       "      <td>Individual</td>\n",
       "      <td>14Feet /Black Topped</td>\n",
       "      <td>NaN</td>\n",
       "      <td>2 car and some bikes</td>\n",
       "      <td>NaN</td>\n",
       "      <td>NaN</td>\n",
       "      <td>NaN</td>\n",
       "      <td>HOUSE</td>\n",
       "      <td>SALE</td>\n",
       "      <td>14.0</td>\n",
       "      <td>Black Topped</td>\n",
       "      <td>Mandikhatar</td>\n",
       "      <td>Budhanilkantha Municipality</td>\n",
       "    </tr>\n",
       "    <tr>\n",
       "      <th>2</th>\n",
       "      <td>4.0</td>\n",
       "      <td>29000000.0</td>\n",
       "      <td>Resudential house on sale in Paiyatar, Kapan</td>\n",
       "      <td>Paiyuntar, Budhanilkantha Municipality</td>\n",
       "      <td>[Drinking Water, Bathroom, Electricity Backup,...</td>\n",
       "      <td>South-East</td>\n",
       "      <td>Individual</td>\n",
       "      <td>10Feet /Gravelled</td>\n",
       "      <td>3.0</td>\n",
       "      <td>NaN</td>\n",
       "      <td>NaN</td>\n",
       "      <td>NaN</td>\n",
       "      <td>NaN</td>\n",
       "      <td>HOUSE</td>\n",
       "      <td>SALE</td>\n",
       "      <td>10.0</td>\n",
       "      <td>Gravelled</td>\n",
       "      <td>Paiyuntar</td>\n",
       "      <td>Budhanilkantha Municipality</td>\n",
       "    </tr>\n",
       "    <tr>\n",
       "      <th>3</th>\n",
       "      <td>3.0</td>\n",
       "      <td>17500000.0</td>\n",
       "      <td>Beautiful house on sale in Checkpost, Chandragiri</td>\n",
       "      <td>Chandragiri, Chandragiri Municipality</td>\n",
       "      <td>[Electricity Backup, Drainage, Bathroom, Drink...</td>\n",
       "      <td>NaN</td>\n",
       "      <td>Individual</td>\n",
       "      <td>8-10Feet /Soil Stabilized</td>\n",
       "      <td>2.5</td>\n",
       "      <td>NaN</td>\n",
       "      <td>NaN</td>\n",
       "      <td>NaN</td>\n",
       "      <td>NaN</td>\n",
       "      <td>HOUSE</td>\n",
       "      <td>SALE</td>\n",
       "      <td>8.0</td>\n",
       "      <td>Soil Stabilized</td>\n",
       "      <td>Chandragiri</td>\n",
       "      <td>Chandragiri Municipality</td>\n",
       "    </tr>\n",
       "    <tr>\n",
       "      <th>4</th>\n",
       "      <td>3.0</td>\n",
       "      <td>17000000.0</td>\n",
       "      <td>Beautiful house on sale in Bhatkekopul, Tokha</td>\n",
       "      <td>Tokha, Tokha Municipality</td>\n",
       "      <td>[Washing Machine, Bathroom, Drinking Water, El...</td>\n",
       "      <td>West</td>\n",
       "      <td>Individual</td>\n",
       "      <td>10Feet /Gravelled</td>\n",
       "      <td>3.0</td>\n",
       "      <td>NaN</td>\n",
       "      <td>4.0</td>\n",
       "      <td>NaN</td>\n",
       "      <td>NaN</td>\n",
       "      <td>HOUSE</td>\n",
       "      <td>SALE</td>\n",
       "      <td>10.0</td>\n",
       "      <td>Gravelled</td>\n",
       "      <td>Tokha</td>\n",
       "      <td>Tokha Municipality</td>\n",
       "    </tr>\n",
       "  </tbody>\n",
       "</table>\n",
       "</div>"
      ],
      "text/plain": [
       "   area  house_price                                              title  \\\n",
       "0  19.0      75000.0          Beautiful house on rent in Bagdol, Nakkhu   \n",
       "1   5.0          NaN  Brand new house on sale in Mandikhatar, Kathmandu   \n",
       "2   4.0   29000000.0       Resudential house on sale in Paiyatar, Kapan   \n",
       "3   3.0   17500000.0  Beautiful house on sale in Checkpost, Chandragiri   \n",
       "4   3.0   17000000.0      Beautiful house on sale in Bhatkekopul, Tokha   \n",
       "\n",
       "                             house_location  \\\n",
       "0        Bagdol, Lalitpur Metropolitan City   \n",
       "1  Mandikhatar, Budhanilkantha Municipality   \n",
       "2    Paiyuntar, Budhanilkantha Municipality   \n",
       "3     Chandragiri, Chandragiri Municipality   \n",
       "4                 Tokha, Tokha Municipality   \n",
       "\n",
       "                                           amenities property_face  \\\n",
       "0  [Electricity Backup, Drainage, Parking, Drinki...          East   \n",
       "1  [Drainage, Electricity Backup, Drinking Water,...           NaN   \n",
       "2  [Drinking Water, Bathroom, Electricity Backup,...    South-East   \n",
       "3  [Electricity Backup, Drainage, Bathroom, Drink...           NaN   \n",
       "4  [Washing Machine, Bathroom, Drinking Water, El...          West   \n",
       "\n",
       "  ownership_category                road_access  floors               parking  \\\n",
       "0         Individual    14Feet /Soil Stabilized     2.5                   NaN   \n",
       "1         Individual       14Feet /Black Topped     NaN  2 car and some bikes   \n",
       "2         Individual          10Feet /Gravelled     3.0                   NaN   \n",
       "3         Individual  8-10Feet /Soil Stabilized     2.5                   NaN   \n",
       "4         Individual          10Feet /Gravelled     3.0                   NaN   \n",
       "\n",
       "   bedrooms  bathrooms builtuparea property_type selling_type  road_size  \\\n",
       "0       NaN        NaN         NaN         HOUSE         RENT       14.0   \n",
       "1       NaN        NaN         NaN         HOUSE         SALE       14.0   \n",
       "2       NaN        NaN         NaN         HOUSE         SALE       10.0   \n",
       "3       NaN        NaN         NaN         HOUSE         SALE        8.0   \n",
       "4       4.0        NaN         NaN         HOUSE         SALE       10.0   \n",
       "\n",
       "         road_type location_one                  location_two  \n",
       "0  Soil Stabilized       Bagdol    Lalitpur Metropolitan City  \n",
       "1     Black Topped  Mandikhatar   Budhanilkantha Municipality  \n",
       "2        Gravelled    Paiyuntar   Budhanilkantha Municipality  \n",
       "3  Soil Stabilized  Chandragiri      Chandragiri Municipality  \n",
       "4        Gravelled        Tokha            Tokha Municipality  "
      ]
     },
     "execution_count": 482,
     "metadata": {},
     "output_type": "execute_result"
    }
   ],
   "source": [
    "test_housing_data.head()"
   ]
  },
  {
   "cell_type": "code",
   "execution_count": 433,
   "id": "f41e332e",
   "metadata": {},
   "outputs": [],
   "source": [
    "unique_amenities = []\n",
    "for x in test_housing_data[\"amenities\"]:\n",
    "    unique_amenities = list(set(unique_amenities + x))"
   ]
  },
  {
   "cell_type": "code",
   "execution_count": 434,
   "id": "9712c012",
   "metadata": {},
   "outputs": [],
   "source": [
    "def amenities_process(x):\n",
    "    a = []\n",
    "    for data in unique_amenities:\n",
    "        if data in x:\n",
    "            a.append(1)\n",
    "        else :\n",
    "            a.append(0)\n",
    "    assert(len(a) == 27)\n",
    "    return a"
   ]
  },
  {
   "cell_type": "code",
   "execution_count": 437,
   "id": "1ed0715b",
   "metadata": {},
   "outputs": [
    {
     "data": {
      "text/plain": [
       "list"
      ]
     },
     "execution_count": 437,
     "metadata": {},
     "output_type": "execute_result"
    }
   ],
   "source": [
    "type(amenities_process(test_housing_data['amenities'][0]))"
   ]
  },
  {
   "cell_type": "code",
   "execution_count": 438,
   "id": "b1c5c1a3",
   "metadata": {
    "scrolled": false
   },
   "outputs": [],
   "source": [
    "test_housing_data[\"amenities\"] = test_housing_data[\"amenities\"].apply(amenities_process)"
   ]
  },
  {
   "cell_type": "code",
   "execution_count": 439,
   "id": "739b29a0",
   "metadata": {},
   "outputs": [
    {
     "data": {
      "text/plain": [
       "list"
      ]
     },
     "execution_count": 439,
     "metadata": {},
     "output_type": "execute_result"
    }
   ],
   "source": [
    "type(test_housing_data['amenities'][0])"
   ]
  },
  {
   "cell_type": "code",
   "execution_count": 483,
   "id": "52586051",
   "metadata": {},
   "outputs": [
    {
     "name": "stderr",
     "output_type": "stream",
     "text": [
      "C:\\Users\\ACHYUT~1\\AppData\\Local\\Temp/ipykernel_5444/753291834.py:12: SettingWithCopyWarning: \n",
      "A value is trying to be set on a copy of a slice from a DataFrame\n",
      "\n",
      "See the caveats in the documentation: https://pandas.pydata.org/pandas-docs/stable/user_guide/indexing.html#returning-a-view-versus-a-copy\n",
      "  test_housing_data['house_price'][i] = sale_price\n",
      "C:\\Users\\ACHYUT~1\\AppData\\Local\\Temp/ipykernel_5444/753291834.py:10: SettingWithCopyWarning: \n",
      "A value is trying to be set on a copy of a slice from a DataFrame\n",
      "\n",
      "See the caveats in the documentation: https://pandas.pydata.org/pandas-docs/stable/user_guide/indexing.html#returning-a-view-versus-a-copy\n",
      "  test_housing_data['house_price'][i] = rent_price\n"
     ]
    }
   ],
   "source": [
    "new_df = test_housing_data.groupby('selling_type').mean()\n",
    "\n",
    "rent_price = new_df['house_price'][0]\n",
    "sale_price = new_df['house_price'][1]\n",
    "\n",
    "i = 0\n",
    "for x, y in zip(test_housing_data['house_price'], test_housing_data['selling_type']):\n",
    "    if np.isnan(x):\n",
    "        if y == \"RENT\":\n",
    "            test_housing_data['house_price'][i] = rent_price\n",
    "        elif y == \"SALE\":\n",
    "            test_housing_data['house_price'][i] = sale_price\n",
    "        else :\n",
    "            print(\"error innerloop\")\n",
    "    i = i + 1"
   ]
  },
  {
   "cell_type": "code",
   "execution_count": 484,
   "id": "2788ad95",
   "metadata": {},
   "outputs": [],
   "source": [
    "test_housing_data.drop(\"title\", axis=1, inplace=True)"
   ]
  },
  {
   "cell_type": "code",
   "execution_count": 485,
   "id": "6f70f16a",
   "metadata": {},
   "outputs": [],
   "source": [
    "test_housing_data.drop(\"house_location\", axis=1, inplace=True)"
   ]
  },
  {
   "cell_type": "code",
   "execution_count": 486,
   "id": "f4d7f999",
   "metadata": {},
   "outputs": [],
   "source": [
    "test_housing_data.drop(\"builtuparea\", axis=1, inplace=True)"
   ]
  },
  {
   "cell_type": "code",
   "execution_count": 487,
   "id": "27b50c7f",
   "metadata": {},
   "outputs": [],
   "source": [
    "test_housing_data.drop(\"road_access\", axis=1, inplace=True)"
   ]
  },
  {
   "cell_type": "code",
   "execution_count": 488,
   "id": "0d1767a5",
   "metadata": {},
   "outputs": [],
   "source": [
    "test_housing_data.drop(\"parking\", axis=1, inplace=True)"
   ]
  },
  {
   "cell_type": "code",
   "execution_count": 489,
   "id": "61164806",
   "metadata": {},
   "outputs": [
    {
     "data": {
      "text/html": [
       "<div>\n",
       "<style scoped>\n",
       "    .dataframe tbody tr th:only-of-type {\n",
       "        vertical-align: middle;\n",
       "    }\n",
       "\n",
       "    .dataframe tbody tr th {\n",
       "        vertical-align: top;\n",
       "    }\n",
       "\n",
       "    .dataframe thead th {\n",
       "        text-align: right;\n",
       "    }\n",
       "</style>\n",
       "<table border=\"1\" class=\"dataframe\">\n",
       "  <thead>\n",
       "    <tr style=\"text-align: right;\">\n",
       "      <th></th>\n",
       "      <th>area</th>\n",
       "      <th>house_price</th>\n",
       "      <th>amenities</th>\n",
       "      <th>property_face</th>\n",
       "      <th>ownership_category</th>\n",
       "      <th>floors</th>\n",
       "      <th>bedrooms</th>\n",
       "      <th>bathrooms</th>\n",
       "      <th>property_type</th>\n",
       "      <th>selling_type</th>\n",
       "      <th>road_size</th>\n",
       "      <th>road_type</th>\n",
       "      <th>location_one</th>\n",
       "      <th>location_two</th>\n",
       "    </tr>\n",
       "  </thead>\n",
       "  <tbody>\n",
       "    <tr>\n",
       "      <th>0</th>\n",
       "      <td>19.0</td>\n",
       "      <td>7.500000e+04</td>\n",
       "      <td>[Electricity Backup, Drainage, Parking, Drinki...</td>\n",
       "      <td>East</td>\n",
       "      <td>Individual</td>\n",
       "      <td>2.5</td>\n",
       "      <td>NaN</td>\n",
       "      <td>NaN</td>\n",
       "      <td>HOUSE</td>\n",
       "      <td>RENT</td>\n",
       "      <td>14.0</td>\n",
       "      <td>Soil Stabilized</td>\n",
       "      <td>Bagdol</td>\n",
       "      <td>Lalitpur Metropolitan City</td>\n",
       "    </tr>\n",
       "    <tr>\n",
       "      <th>1</th>\n",
       "      <td>5.0</td>\n",
       "      <td>4.175269e+07</td>\n",
       "      <td>[Drainage, Electricity Backup, Drinking Water,...</td>\n",
       "      <td>NaN</td>\n",
       "      <td>Individual</td>\n",
       "      <td>NaN</td>\n",
       "      <td>NaN</td>\n",
       "      <td>NaN</td>\n",
       "      <td>HOUSE</td>\n",
       "      <td>SALE</td>\n",
       "      <td>14.0</td>\n",
       "      <td>Black Topped</td>\n",
       "      <td>Mandikhatar</td>\n",
       "      <td>Budhanilkantha Municipality</td>\n",
       "    </tr>\n",
       "    <tr>\n",
       "      <th>2</th>\n",
       "      <td>4.0</td>\n",
       "      <td>2.900000e+07</td>\n",
       "      <td>[Drinking Water, Bathroom, Electricity Backup,...</td>\n",
       "      <td>South-East</td>\n",
       "      <td>Individual</td>\n",
       "      <td>3.0</td>\n",
       "      <td>NaN</td>\n",
       "      <td>NaN</td>\n",
       "      <td>HOUSE</td>\n",
       "      <td>SALE</td>\n",
       "      <td>10.0</td>\n",
       "      <td>Gravelled</td>\n",
       "      <td>Paiyuntar</td>\n",
       "      <td>Budhanilkantha Municipality</td>\n",
       "    </tr>\n",
       "    <tr>\n",
       "      <th>3</th>\n",
       "      <td>3.0</td>\n",
       "      <td>1.750000e+07</td>\n",
       "      <td>[Electricity Backup, Drainage, Bathroom, Drink...</td>\n",
       "      <td>NaN</td>\n",
       "      <td>Individual</td>\n",
       "      <td>2.5</td>\n",
       "      <td>NaN</td>\n",
       "      <td>NaN</td>\n",
       "      <td>HOUSE</td>\n",
       "      <td>SALE</td>\n",
       "      <td>8.0</td>\n",
       "      <td>Soil Stabilized</td>\n",
       "      <td>Chandragiri</td>\n",
       "      <td>Chandragiri Municipality</td>\n",
       "    </tr>\n",
       "    <tr>\n",
       "      <th>4</th>\n",
       "      <td>3.0</td>\n",
       "      <td>1.700000e+07</td>\n",
       "      <td>[Washing Machine, Bathroom, Drinking Water, El...</td>\n",
       "      <td>West</td>\n",
       "      <td>Individual</td>\n",
       "      <td>3.0</td>\n",
       "      <td>4.0</td>\n",
       "      <td>NaN</td>\n",
       "      <td>HOUSE</td>\n",
       "      <td>SALE</td>\n",
       "      <td>10.0</td>\n",
       "      <td>Gravelled</td>\n",
       "      <td>Tokha</td>\n",
       "      <td>Tokha Municipality</td>\n",
       "    </tr>\n",
       "  </tbody>\n",
       "</table>\n",
       "</div>"
      ],
      "text/plain": [
       "   area   house_price                                          amenities  \\\n",
       "0  19.0  7.500000e+04  [Electricity Backup, Drainage, Parking, Drinki...   \n",
       "1   5.0  4.175269e+07  [Drainage, Electricity Backup, Drinking Water,...   \n",
       "2   4.0  2.900000e+07  [Drinking Water, Bathroom, Electricity Backup,...   \n",
       "3   3.0  1.750000e+07  [Electricity Backup, Drainage, Bathroom, Drink...   \n",
       "4   3.0  1.700000e+07  [Washing Machine, Bathroom, Drinking Water, El...   \n",
       "\n",
       "  property_face ownership_category  floors  bedrooms  bathrooms property_type  \\\n",
       "0          East         Individual     2.5       NaN        NaN         HOUSE   \n",
       "1           NaN         Individual     NaN       NaN        NaN         HOUSE   \n",
       "2    South-East         Individual     3.0       NaN        NaN         HOUSE   \n",
       "3           NaN         Individual     2.5       NaN        NaN         HOUSE   \n",
       "4          West         Individual     3.0       4.0        NaN         HOUSE   \n",
       "\n",
       "  selling_type  road_size        road_type location_one  \\\n",
       "0         RENT       14.0  Soil Stabilized       Bagdol   \n",
       "1         SALE       14.0     Black Topped  Mandikhatar   \n",
       "2         SALE       10.0        Gravelled    Paiyuntar   \n",
       "3         SALE        8.0  Soil Stabilized  Chandragiri   \n",
       "4         SALE       10.0        Gravelled        Tokha   \n",
       "\n",
       "                   location_two  \n",
       "0    Lalitpur Metropolitan City  \n",
       "1   Budhanilkantha Municipality  \n",
       "2   Budhanilkantha Municipality  \n",
       "3      Chandragiri Municipality  \n",
       "4            Tokha Municipality  "
      ]
     },
     "execution_count": 489,
     "metadata": {},
     "output_type": "execute_result"
    }
   ],
   "source": [
    "test_housing_data.head()"
   ]
  },
  {
   "cell_type": "code",
   "execution_count": 490,
   "id": "46abfd66",
   "metadata": {},
   "outputs": [
    {
     "name": "stdout",
     "output_type": "stream",
     "text": [
      "bathrooms             912\n",
      "property_face         837\n",
      "area                  732\n",
      "bedrooms              731\n",
      "road_type             622\n",
      "floors                142\n",
      "ownership_category    101\n",
      "property_type          23\n",
      "selling_type           15\n",
      "road_size               6\n",
      "location_one            5\n",
      "location_two            5\n",
      "dtype: int64\n"
     ]
    }
   ],
   "source": [
    "num_null_is_col = test_housing_data.isna().sum()\n",
    "print(num_null_is_col[num_null_is_col > 0].sort_values(ascending=False))"
   ]
  },
  {
   "cell_type": "code",
   "execution_count": 491,
   "id": "a5b0d0e5",
   "metadata": {},
   "outputs": [],
   "source": [
    "test_housing_data.drop(\"ownership_category\", axis=1, inplace=True)\n",
    "test_housing_data.drop(\"property_face\", axis=1, inplace=True)\n",
    "test_housing_data.drop(\"location_one\", axis=1, inplace=True)"
   ]
  },
  {
   "cell_type": "code",
   "execution_count": 492,
   "id": "058d953a",
   "metadata": {},
   "outputs": [],
   "source": [
    "test_housing_data['floors'].fillna(test_housing_data['floors'].mode()[0], inplace=True)\n",
    "test_housing_data['bedrooms'].fillna(test_housing_data['floors'].mode()[0], inplace=True)\n",
    "test_housing_data['bathrooms'].fillna(test_housing_data['floors'].mode()[0], inplace=True)"
   ]
  },
  {
   "cell_type": "code",
   "execution_count": 493,
   "id": "3c53af48",
   "metadata": {},
   "outputs": [],
   "source": [
    "test_housing_data = test_housing_data.ffill()"
   ]
  },
  {
   "cell_type": "code",
   "execution_count": 494,
   "id": "83288d52",
   "metadata": {},
   "outputs": [
    {
     "name": "stdout",
     "output_type": "stream",
     "text": [
      "Series([], dtype: int64)\n"
     ]
    }
   ],
   "source": [
    "num_null_is_col = a.isna().sum()\n",
    "print(num_null_is_col[num_null_is_col > 0].sort_values(ascending=False))"
   ]
  },
  {
   "cell_type": "code",
   "execution_count": 495,
   "id": "1a26a5ab",
   "metadata": {},
   "outputs": [
    {
     "data": {
      "text/html": [
       "<div>\n",
       "<style scoped>\n",
       "    .dataframe tbody tr th:only-of-type {\n",
       "        vertical-align: middle;\n",
       "    }\n",
       "\n",
       "    .dataframe tbody tr th {\n",
       "        vertical-align: top;\n",
       "    }\n",
       "\n",
       "    .dataframe thead th {\n",
       "        text-align: right;\n",
       "    }\n",
       "</style>\n",
       "<table border=\"1\" class=\"dataframe\">\n",
       "  <thead>\n",
       "    <tr style=\"text-align: right;\">\n",
       "      <th></th>\n",
       "      <th>area</th>\n",
       "      <th>house_price</th>\n",
       "      <th>amenities</th>\n",
       "      <th>floors</th>\n",
       "      <th>bedrooms</th>\n",
       "      <th>bathrooms</th>\n",
       "      <th>property_type</th>\n",
       "      <th>selling_type</th>\n",
       "      <th>road_size</th>\n",
       "      <th>road_type</th>\n",
       "      <th>location_two</th>\n",
       "    </tr>\n",
       "  </thead>\n",
       "  <tbody>\n",
       "    <tr>\n",
       "      <th>0</th>\n",
       "      <td>19.0</td>\n",
       "      <td>7.500000e+04</td>\n",
       "      <td>[Electricity Backup, Drainage, Parking, Drinki...</td>\n",
       "      <td>2.5</td>\n",
       "      <td>2.5</td>\n",
       "      <td>2.5</td>\n",
       "      <td>HOUSE</td>\n",
       "      <td>RENT</td>\n",
       "      <td>14.0</td>\n",
       "      <td>Soil Stabilized</td>\n",
       "      <td>Lalitpur Metropolitan City</td>\n",
       "    </tr>\n",
       "    <tr>\n",
       "      <th>1</th>\n",
       "      <td>5.0</td>\n",
       "      <td>4.175269e+07</td>\n",
       "      <td>[Drainage, Electricity Backup, Drinking Water,...</td>\n",
       "      <td>2.5</td>\n",
       "      <td>2.5</td>\n",
       "      <td>2.5</td>\n",
       "      <td>HOUSE</td>\n",
       "      <td>SALE</td>\n",
       "      <td>14.0</td>\n",
       "      <td>Black Topped</td>\n",
       "      <td>Budhanilkantha Municipality</td>\n",
       "    </tr>\n",
       "    <tr>\n",
       "      <th>2</th>\n",
       "      <td>4.0</td>\n",
       "      <td>2.900000e+07</td>\n",
       "      <td>[Drinking Water, Bathroom, Electricity Backup,...</td>\n",
       "      <td>3.0</td>\n",
       "      <td>2.5</td>\n",
       "      <td>2.5</td>\n",
       "      <td>HOUSE</td>\n",
       "      <td>SALE</td>\n",
       "      <td>10.0</td>\n",
       "      <td>Gravelled</td>\n",
       "      <td>Budhanilkantha Municipality</td>\n",
       "    </tr>\n",
       "    <tr>\n",
       "      <th>3</th>\n",
       "      <td>3.0</td>\n",
       "      <td>1.750000e+07</td>\n",
       "      <td>[Electricity Backup, Drainage, Bathroom, Drink...</td>\n",
       "      <td>2.5</td>\n",
       "      <td>2.5</td>\n",
       "      <td>2.5</td>\n",
       "      <td>HOUSE</td>\n",
       "      <td>SALE</td>\n",
       "      <td>8.0</td>\n",
       "      <td>Soil Stabilized</td>\n",
       "      <td>Chandragiri Municipality</td>\n",
       "    </tr>\n",
       "    <tr>\n",
       "      <th>4</th>\n",
       "      <td>3.0</td>\n",
       "      <td>1.700000e+07</td>\n",
       "      <td>[Washing Machine, Bathroom, Drinking Water, El...</td>\n",
       "      <td>3.0</td>\n",
       "      <td>4.0</td>\n",
       "      <td>2.5</td>\n",
       "      <td>HOUSE</td>\n",
       "      <td>SALE</td>\n",
       "      <td>10.0</td>\n",
       "      <td>Gravelled</td>\n",
       "      <td>Tokha Municipality</td>\n",
       "    </tr>\n",
       "  </tbody>\n",
       "</table>\n",
       "</div>"
      ],
      "text/plain": [
       "   area   house_price                                          amenities  \\\n",
       "0  19.0  7.500000e+04  [Electricity Backup, Drainage, Parking, Drinki...   \n",
       "1   5.0  4.175269e+07  [Drainage, Electricity Backup, Drinking Water,...   \n",
       "2   4.0  2.900000e+07  [Drinking Water, Bathroom, Electricity Backup,...   \n",
       "3   3.0  1.750000e+07  [Electricity Backup, Drainage, Bathroom, Drink...   \n",
       "4   3.0  1.700000e+07  [Washing Machine, Bathroom, Drinking Water, El...   \n",
       "\n",
       "   floors  bedrooms  bathrooms property_type selling_type  road_size  \\\n",
       "0     2.5       2.5        2.5         HOUSE         RENT       14.0   \n",
       "1     2.5       2.5        2.5         HOUSE         SALE       14.0   \n",
       "2     3.0       2.5        2.5         HOUSE         SALE       10.0   \n",
       "3     2.5       2.5        2.5         HOUSE         SALE        8.0   \n",
       "4     3.0       4.0        2.5         HOUSE         SALE       10.0   \n",
       "\n",
       "         road_type                  location_two  \n",
       "0  Soil Stabilized    Lalitpur Metropolitan City  \n",
       "1     Black Topped   Budhanilkantha Municipality  \n",
       "2        Gravelled   Budhanilkantha Municipality  \n",
       "3  Soil Stabilized      Chandragiri Municipality  \n",
       "4        Gravelled            Tokha Municipality  "
      ]
     },
     "execution_count": 495,
     "metadata": {},
     "output_type": "execute_result"
    }
   ],
   "source": [
    "test_housing_data.head()"
   ]
  },
  {
   "cell_type": "markdown",
   "id": "bc8dded9",
   "metadata": {},
   "source": [
    "### Finally"
   ]
  },
  {
   "cell_type": "code",
   "execution_count": 496,
   "id": "4b6fa343",
   "metadata": {},
   "outputs": [],
   "source": [
    "test_housing_data.to_csv(\"processed.csv\", sep='\\t', index=False)"
   ]
  },
  {
   "cell_type": "code",
   "execution_count": 497,
   "id": "c775c1a7",
   "metadata": {},
   "outputs": [
    {
     "name": "stderr",
     "output_type": "stream",
     "text": [
      "C:\\Python\\Python39\\lib\\site-packages\\seaborn\\distributions.py:2619: FutureWarning: `distplot` is a deprecated function and will be removed in a future version. Please adapt your code to use either `displot` (a figure-level function with similar flexibility) or `histplot` (an axes-level function for histograms).\n",
      "  warnings.warn(msg, FutureWarning)\n"
     ]
    },
    {
     "data": {
      "image/png": "[encoded data removed]",
      "text/plain": [
       "<Figure size 720x576 with 1 Axes>"
      ]
     },
     "metadata": {
      "needs_background": "light"
     },
     "output_type": "display_data"
    }
   ],
   "source": [
    "import seaborn as sns\n",
    "import matplotlib.pyplot as plt\n",
    "\n",
    "plt.figure(figsize=(10,8))\n",
    "plt.title('Sale Price Distribution')\n",
    "sns.distplot(test_housing_data['house_price'])\n",
    "\n",
    "plt.ylabel('Density', fontsize=13)\n",
    "plt.xlabel('SalePrice', fontsize=13)\n",
    "\n",
    "plt.show()"
   ]
  },
  {
   "cell_type": "code",
   "execution_count": 498,
   "id": "06191c47",
   "metadata": {},
   "outputs": [
    {
     "name": "stdout",
     "output_type": "stream",
     "text": [
      "<class 'pandas.core.frame.DataFrame'>\n",
      "RangeIndex: 2188 entries, 0 to 2187\n",
      "Data columns (total 11 columns):\n",
      " #   Column         Non-Null Count  Dtype  \n",
      "---  ------         --------------  -----  \n",
      " 0   area           2188 non-null   float64\n",
      " 1   house_price    2188 non-null   float64\n",
      " 2   amenities      2188 non-null   object \n",
      " 3   floors         2188 non-null   float64\n",
      " 4   bedrooms       2188 non-null   float64\n",
      " 5   bathrooms      2188 non-null   float64\n",
      " 6   property_type  2188 non-null   object \n",
      " 7   selling_type   2188 non-null   object \n",
      " 8   road_size      2188 non-null   float64\n",
      " 9   road_type      2188 non-null   object \n",
      " 10  location_two   2188 non-null   object \n",
      "dtypes: float64(6), object(5)\n",
      "memory usage: 188.2+ KB\n"
     ]
    }
   ],
   "source": [
    "test_housing_data.info()"
   ]
  },
  {
   "cell_type": "code",
   "execution_count": 499,
   "id": "f3ade686",
   "metadata": {},
   "outputs": [
    {
     "data": {
      "text/html": [
       "<div>\n",
       "<style scoped>\n",
       "    .dataframe tbody tr th:only-of-type {\n",
       "        vertical-align: middle;\n",
       "    }\n",
       "\n",
       "    .dataframe tbody tr th {\n",
       "        vertical-align: top;\n",
       "    }\n",
       "\n",
       "    .dataframe thead th {\n",
       "        text-align: right;\n",
       "    }\n",
       "</style>\n",
       "<table border=\"1\" class=\"dataframe\">\n",
       "  <thead>\n",
       "    <tr style=\"text-align: right;\">\n",
       "      <th></th>\n",
       "      <th>area</th>\n",
       "      <th>house_price</th>\n",
       "      <th>floors</th>\n",
       "      <th>bedrooms</th>\n",
       "      <th>bathrooms</th>\n",
       "      <th>road_size</th>\n",
       "    </tr>\n",
       "  </thead>\n",
       "  <tbody>\n",
       "    <tr>\n",
       "      <th>count</th>\n",
       "      <td>2188.000000</td>\n",
       "      <td>2.188000e+03</td>\n",
       "      <td>2188.000000</td>\n",
       "      <td>2188.000000</td>\n",
       "      <td>2188.000000</td>\n",
       "      <td>2188.000000</td>\n",
       "    </tr>\n",
       "    <tr>\n",
       "      <th>mean</th>\n",
       "      <td>7.095256</td>\n",
       "      <td>3.457381e+07</td>\n",
       "      <td>2.664077</td>\n",
       "      <td>4.444470</td>\n",
       "      <td>3.585923</td>\n",
       "      <td>15.308044</td>\n",
       "    </tr>\n",
       "    <tr>\n",
       "      <th>std</th>\n",
       "      <td>8.964864</td>\n",
       "      <td>4.135992e+07</td>\n",
       "      <td>0.751495</td>\n",
       "      <td>3.187732</td>\n",
       "      <td>2.914013</td>\n",
       "      <td>26.578613</td>\n",
       "    </tr>\n",
       "    <tr>\n",
       "      <th>min</th>\n",
       "      <td>1.000000</td>\n",
       "      <td>5.000000e+01</td>\n",
       "      <td>1.000000</td>\n",
       "      <td>1.000000</td>\n",
       "      <td>1.000000</td>\n",
       "      <td>0.000000</td>\n",
       "    </tr>\n",
       "    <tr>\n",
       "      <th>25%</th>\n",
       "      <td>4.000000</td>\n",
       "      <td>1.600000e+07</td>\n",
       "      <td>2.500000</td>\n",
       "      <td>2.500000</td>\n",
       "      <td>2.500000</td>\n",
       "      <td>12.000000</td>\n",
       "    </tr>\n",
       "    <tr>\n",
       "      <th>50%</th>\n",
       "      <td>4.312500</td>\n",
       "      <td>2.750000e+07</td>\n",
       "      <td>2.500000</td>\n",
       "      <td>4.000000</td>\n",
       "      <td>3.000000</td>\n",
       "      <td>13.000000</td>\n",
       "    </tr>\n",
       "    <tr>\n",
       "      <th>75%</th>\n",
       "      <td>6.000000</td>\n",
       "      <td>4.175269e+07</td>\n",
       "      <td>2.500000</td>\n",
       "      <td>5.000000</td>\n",
       "      <td>4.000000</td>\n",
       "      <td>18.000000</td>\n",
       "    </tr>\n",
       "    <tr>\n",
       "      <th>max</th>\n",
       "      <td>106.501096</td>\n",
       "      <td>9.200000e+08</td>\n",
       "      <td>8.500000</td>\n",
       "      <td>100.000000</td>\n",
       "      <td>100.000000</td>\n",
       "      <td>1222.000000</td>\n",
       "    </tr>\n",
       "  </tbody>\n",
       "</table>\n",
       "</div>"
      ],
      "text/plain": [
       "              area   house_price       floors     bedrooms    bathrooms  \\\n",
       "count  2188.000000  2.188000e+03  2188.000000  2188.000000  2188.000000   \n",
       "mean      7.095256  3.457381e+07     2.664077     4.444470     3.585923   \n",
       "std       8.964864  4.135992e+07     0.751495     3.187732     2.914013   \n",
       "min       1.000000  5.000000e+01     1.000000     1.000000     1.000000   \n",
       "25%       4.000000  1.600000e+07     2.500000     2.500000     2.500000   \n",
       "50%       4.312500  2.750000e+07     2.500000     4.000000     3.000000   \n",
       "75%       6.000000  4.175269e+07     2.500000     5.000000     4.000000   \n",
       "max     106.501096  9.200000e+08     8.500000   100.000000   100.000000   \n",
       "\n",
       "         road_size  \n",
       "count  2188.000000  \n",
       "mean     15.308044  \n",
       "std      26.578613  \n",
       "min       0.000000  \n",
       "25%      12.000000  \n",
       "50%      13.000000  \n",
       "75%      18.000000  \n",
       "max    1222.000000  "
      ]
     },
     "execution_count": 499,
     "metadata": {},
     "output_type": "execute_result"
    }
   ],
   "source": [
    "test_housing_data.describe()"
   ]
  },
  {
   "cell_type": "code",
   "execution_count": 500,
   "id": "3753ed09",
   "metadata": {},
   "outputs": [
    {
     "data": {
      "image/png": "[encoded data removed]",
      "text/plain": [
       "<Figure size 1440x1080 with 6 Axes>"
      ]
     },
     "metadata": {
      "needs_background": "light"
     },
     "output_type": "display_data"
    }
   ],
   "source": [
    "%matplotlib inline\n",
    "import matplotlib.pyplot as plt\n",
    "test_housing_data.hist(bins=50, figsize=(20, 15))\n",
    "plt.show()"
   ]
  },
  {
   "cell_type": "code",
   "execution_count": 501,
   "id": "82adf6db",
   "metadata": {},
   "outputs": [
    {
     "data": {
      "image/png": "[encoded data removed]",
      "text/plain": [
       "<Figure size 720x720 with 2 Axes>"
      ]
     },
     "metadata": {
      "needs_background": "light"
     },
     "output_type": "display_data"
    }
   ],
   "source": [
    "import seaborn as sns\n",
    "\n",
    "corr_matrix = test_housing_data.corr()\n",
    "top_corr_features = corr_matrix.index[abs(corr_matrix[\"house_price\"])>0]\n",
    "plt.figure(figsize=(10,10))\n",
    "\n",
    "g = sns.heatmap(test_housing_data[top_corr_features].corr(),\n",
    "                annot=True,\n",
    "                cmap=\"coolwarm\")"
   ]
  },
  {
   "cell_type": "code",
   "execution_count": 249,
   "id": "462dccf4",
   "metadata": {},
   "outputs": [],
   "source": [
    "y = test_housing_data[\"house_price\"]"
   ]
  },
  {
   "cell_type": "code",
   "execution_count": 250,
   "id": "572ebbea",
   "metadata": {},
   "outputs": [],
   "source": [
    "test_housing_data.drop(\"house_price\", axis=1, inplace=True)"
   ]
  },
  {
   "cell_type": "code",
   "execution_count": 251,
   "id": "e7f45349",
   "metadata": {},
   "outputs": [],
   "source": [
    "x = test_housing_data"
   ]
  }
 ],
 "metadata": {
  "kernelspec": {
   "display_name": "Python 3 (ipykernel)",
   "language": "python",
   "name": "python3"
  },
  "language_info": {
   "codemirror_mode": {
    "name": "ipython",
    "version": 3
   },
   "file_extension": ".py",
   "mimetype": "text/x-python",
   "name": "python",
   "nbconvert_exporter": "python",
   "pygments_lexer": "ipython3",
   "version": "3.9.7"
  }
 },
 "nbformat": 4,
 "nbformat_minor": 5
}
